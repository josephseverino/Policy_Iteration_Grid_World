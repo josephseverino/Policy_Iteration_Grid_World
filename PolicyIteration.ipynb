{
 "cells": [
  {
   "cell_type": "code",
   "execution_count": 87,
   "metadata": {
    "collapsed": false,
    "scrolled": false
   },
   "outputs": [
    {
     "name": "stdout",
     "output_type": "stream",
     "text": [
      "rewards:\n",
      "---------------------------\n",
      "-0.10|-0.10|-0.10| 1.00|\n",
      "---------------------------\n",
      "-0.10| 0.00|-0.10|-1.00|\n",
      "---------------------------\n",
      "-0.10|-0.10|-0.10|-0.10|\n",
      "initial policy:\n",
      "---------------------------\n",
      "  R  |  U  |  L  |     |\n",
      "---------------------------\n",
      "  D  |     |  L  |     |\n",
      "---------------------------\n",
      "  D  |  U  |  L  |  L  |\n",
      "biggest_change when converged: -0.5\n",
      "biggest_change when converged: -0.5\n",
      "biggest_change when converged: -0.5\n",
      "biggest_change when converged: -0.5\n",
      "biggest_change when converged: -0.5\n",
      "values:\n",
      "---------------------------\n",
      " 0.62| 0.80| 1.00| 0.00|\n",
      "---------------------------\n",
      " 0.46| 0.00| 0.80| 0.00|\n",
      "---------------------------\n",
      " 0.31| 0.46| 0.62| 0.46|\n",
      "policy:\n",
      "---------------------------\n",
      "  R  |  R  |  R  |     |\n",
      "---------------------------\n",
      "  U  |     |  U  |     |\n",
      "---------------------------\n",
      "  U  |  R  |  U  |  L  |\n"
     ]
    }
   ],
   "source": [
    "# https://deeplearningcourses.com/c/artificial-intelligence-reinforcement-learning-in-python\n",
    "# https://www.udemy.com/artificial-intelligence-reinforcement-learning-in-python\n",
    "from __future__ import print_function, division\n",
    "from builtins import range\n",
    "# Note: you may need to update your version of future\n",
    "# sudo pip install -U future\n",
    "\n",
    "\n",
    "import numpy as np\n",
    "from grid_world import standard_grid, negative_grid\n",
    "from iterative_policy_evaluation import print_values, print_policy\n",
    "\n",
    "SMALL_ENOUGH = 1e-3\n",
    "GAMMA = 0.9\n",
    "ALL_POSSIBLE_ACTIONS = ('U', 'D', 'L', 'R')\n",
    "count = 0\n",
    "result_array = np.array([])\n",
    "# this is deterministic\n",
    "# all p(s',r|s,a) = 1 or 0\n",
    "\n",
    "if __name__ == '__main__':\n",
    "  # this grid gives you a reward of -0.1 for every non-terminal state\n",
    "  # we want to see if this will encourage finding a shorter path to the goal\n",
    "  grid = negative_grid()\n",
    "\n",
    "  # print rewards\n",
    "  print(\"rewards:\")\n",
    "  print_values(grid.rewards, grid)\n",
    "\n",
    "  # state -> action\n",
    "  # we'll randomly choose an action and update as we learn\n",
    "  policy = {}\n",
    "  for s in grid.actions.keys():\n",
    "    policy[s] = np.random.choice(ALL_POSSIBLE_ACTIONS)\n",
    "\n",
    "  # initial policy\n",
    "  print(\"initial policy:\")\n",
    "  print_policy(policy, grid)\n",
    "\n",
    "  # initialize V(s)\n",
    "  V = {}\n",
    "  states = grid.all_states()\n",
    "  for s in states:\n",
    "    # V[s] = 0\n",
    "    if s in grid.actions:\n",
    "      V[s] = .5\n",
    "    else:\n",
    "      # terminal state\n",
    "      V[s] = 0\n",
    "  \n",
    "  # repeat until convergence - will break out when policy does not change\n",
    "  while True:\n",
    "\n",
    "    # policy evaluation step - we already know how to do this!\n",
    "    while True:\n",
    "      \n",
    "      \n",
    "      biggest_change = 0\n",
    "      \n",
    "      for s in states:\n",
    "        old_v = V[s]\n",
    "        \n",
    "        # V(s) only has value if it's not a terminal state\n",
    "        if s in policy:\n",
    "          count = count +1\n",
    "          a = policy[s]\n",
    "          grid.set_state(s)\n",
    "          r = grid.move(a)\n",
    "          V[s] = r + GAMMA * V[grid.current_state()]\n",
    "          biggest_change = max(biggest_change, np.abs(old_v - V[s]))\n",
    "          \n",
    "          if biggest_change < SMALL_ENOUGH:\n",
    "                biggest_change = -.5\n",
    "          result_array = np.append(result_array, biggest_change)\n",
    "          # print(biggest_change)\n",
    "          # print(\"a\",a, \"r\",r, V[s],\"state\", s)\n",
    "      if biggest_change < SMALL_ENOUGH:\n",
    "        print(\"biggest_change when converged:\",biggest_change)\n",
    "        break\n",
    "   \n",
    "    # policy improvement step\n",
    "    is_policy_converged = True\n",
    "    for s in states:\n",
    "      \n",
    "      if s in policy:\n",
    "        \n",
    "        old_a = policy[s]\n",
    "        new_a = None\n",
    "        best_value = float('-inf')\n",
    "        # loop through all possible actions to find the best current action\n",
    "        for a in ALL_POSSIBLE_ACTIONS:\n",
    "          grid.set_state(s)\n",
    "          r = grid.move(a)\n",
    "          v = r + GAMMA * V[grid.current_state()]\n",
    "          \n",
    "            #print(\"v:\",v)\n",
    "          if v > best_value:\n",
    "            best_value = v\n",
    "            new_a = a\n",
    "            #print(v)\n",
    "        policy[s] = new_a\n",
    "        \n",
    "        if new_a != old_a:\n",
    "          is_policy_converged = False\n",
    "\n",
    "    if is_policy_converged:\n",
    "      break\n",
    "\n",
    "  print(\"values:\")\n",
    "  print_values(V, grid)\n",
    "  print(\"policy:\")\n",
    "  print_policy(policy, grid)\n"
   ]
  },
  {
   "cell_type": "code",
   "execution_count": 88,
   "metadata": {
    "collapsed": false
   },
   "outputs": [
    {
     "data": {
      "image/png": "[encoded data removed]",
      "text/plain": [
       "<Figure size 432x288 with 1 Axes>"
      ]
     },
     "metadata": {},
     "output_type": "display_data"
    }
   ],
   "source": [
    "import matplotlib.pyplot as plt\n",
    "plt.plot(result_array)\n",
    "plt.show()"
   ]
  },
  {
   "cell_type": "code",
   "execution_count": 23,
   "metadata": {
    "collapsed": false
   },
   "outputs": [
    {
     "data": {
      "image/png": "[encoded data removed]",
      "text/plain": [
       "<Figure size 432x288 with 1 Axes>"
      ]
     },
     "metadata": {},
     "output_type": "display_data"
    }
   ],
   "source": []
  },
  {
   "cell_type": "code",
   "execution_count": 9,
   "metadata": {
    "collapsed": false
   },
   "outputs": [
    {
     "data": {
      "text/plain": [
       "1760000"
      ]
     },
     "execution_count": 9,
     "metadata": {},
     "output_type": "execute_result"
    }
   ],
   "source": [
    "88000*20"
   ]
  },
  {
   "cell_type": "code",
   "execution_count": 10,
   "metadata": {
    "collapsed": false
   },
   "outputs": [
    {
     "data": {
      "text/plain": [
       "36.0"
      ]
     },
     "execution_count": 10,
     "metadata": {},
     "output_type": "execute_result"
    }
   ],
   "source": [
    "63/1.75\n"
   ]
  },
  {
   "cell_type": "code",
   "execution_count": 11,
   "metadata": {
    "collapsed": false
   },
   "outputs": [
    {
     "data": {
      "text/plain": [
       "3168000"
      ]
     },
     "execution_count": 11,
     "metadata": {},
     "output_type": "execute_result"
    }
   ],
   "source": [
    "36*88000"
   ]
  },
  {
   "cell_type": "code",
   "execution_count": 12,
   "metadata": {
    "collapsed": false
   },
   "outputs": [
    {
     "data": {
      "text/plain": [
       "123000.0"
      ]
     },
     "execution_count": 12,
     "metadata": {},
     "output_type": "execute_result"
    }
   ],
   "source": [
    "4100000*.03"
   ]
  },
  {
   "cell_type": "code",
   "execution_count": 13,
   "metadata": {
    "collapsed": false
   },
   "outputs": [
    {
     "data": {
      "text/plain": [
       "130"
      ]
     },
     "execution_count": 13,
     "metadata": {},
     "output_type": "execute_result"
    }
   ],
   "source": [
    "15+15+80+20"
   ]
  },
  {
   "cell_type": "code",
   "execution_count": 14,
   "metadata": {
    "collapsed": false
   },
   "outputs": [
    {
     "data": {
      "text/plain": [
       "2867.5"
      ]
     },
     "execution_count": 14,
     "metadata": {},
     "output_type": "execute_result"
    }
   ],
   "source": [
    "(80*18.5)+(50*27.75)"
   ]
  },
  {
   "cell_type": "code",
   "execution_count": 15,
   "metadata": {
    "collapsed": false
   },
   "outputs": [
    {
     "data": {
      "text/plain": [
       "2150.25"
      ]
     },
     "execution_count": 15,
     "metadata": {},
     "output_type": "execute_result"
    }
   ],
   "source": [
    ".75*2867"
   ]
  },
  {
   "cell_type": "code",
   "execution_count": 11,
   "metadata": {
    "collapsed": false
   },
   "outputs": [
    {
     "data": {
      "text/plain": [
       "'L'"
      ]
     },
     "execution_count": 11,
     "metadata": {},
     "output_type": "execute_result"
    }
   ],
   "source": [
    "import numpy as np\n",
    "np.random.choice(('U', 'D', 'L', 'R'))"
   ]
  },
  {
   "cell_type": "code",
   "execution_count": 14,
   "metadata": {
    "collapsed": false
   },
   "outputs": [
    {
     "data": {
      "text/plain": [
       "<grid_world.Grid at 0x10a1062e8>"
      ]
     },
     "execution_count": 14,
     "metadata": {},
     "output_type": "execute_result"
    }
   ],
   "source": [
    "negative_grid()"
   ]
  },
  {
   "cell_type": "code",
   "execution_count": 23,
   "metadata": {
    "collapsed": true
   },
   "outputs": [],
   "source": [
    "count = 0\n",
    "count += 1\n",
    "count += 1"
   ]
  },
  {
   "cell_type": "code",
   "execution_count": 24,
   "metadata": {
    "collapsed": false
   },
   "outputs": [
    {
     "data": {
      "text/plain": [
       "2"
      ]
     },
     "execution_count": 24,
     "metadata": {},
     "output_type": "execute_result"
    }
   ],
   "source": [
    "count"
   ]
  },
  {
   "cell_type": "code",
   "execution_count": 35,
   "metadata": {
    "collapsed": false
   },
   "outputs": [
    {
     "data": {
      "text/plain": [
       "array([5.87689944e-01, 3.49823463e-01, 8.00251103e-01, 5.76948435e-02,\n",
       "       1.97704849e-01, 2.49739391e-01, 9.92844881e-01, 1.90859322e-02,\n",
       "       7.43150254e-01, 4.12122314e-01, 3.93006635e-01, 7.01616428e-02,\n",
       "       2.26372407e-01, 7.22949802e-01, 5.62215968e-03, 8.93482695e-01,\n",
       "       8.55887966e-01, 5.31688050e-02, 4.80430821e-01, 5.06165444e-01,\n",
       "       7.44299422e-01, 8.27611000e-01, 7.95384286e-01, 1.18468864e-01,\n",
       "       2.40187605e-01, 2.55002970e-01, 9.28602438e-01, 5.18377258e-01,\n",
       "       6.07215380e-02, 2.22208665e-01, 4.07500324e-01, 9.15979526e-02,\n",
       "       8.53357869e-01, 8.41922155e-01, 3.16074842e-01, 8.35420719e-01,\n",
       "       3.77117796e-01, 6.46863268e-01, 8.33637452e-01, 7.05358195e-01,\n",
       "       5.26051422e-01, 1.52581539e-01, 2.96704072e-01, 2.68878748e-01,\n",
       "       5.98580756e-01, 8.61539336e-01, 9.44047804e-01, 8.62286562e-01,\n",
       "       8.27156935e-01, 2.17110077e-01, 3.98407880e-02, 7.01032652e-01,\n",
       "       9.75721202e-01, 6.73606292e-01, 2.31615385e-01, 7.38054084e-01,\n",
       "       1.74592874e-02, 6.98198822e-01, 4.31639205e-02, 8.37688790e-02,\n",
       "       2.60049992e-01, 5.16392891e-01, 6.26230663e-01, 5.56009020e-01,\n",
       "       1.37303941e-01, 6.32336004e-01, 3.75315463e-01, 4.26474407e-01,\n",
       "       5.17187550e-01, 6.63139957e-01, 5.89043403e-01, 5.80210260e-01,\n",
       "       2.15087013e-01, 7.61628480e-01, 7.79911561e-01, 6.23490491e-01,\n",
       "       7.72401937e-01, 8.39683150e-01, 9.57419702e-01, 6.56738300e-01,\n",
       "       7.71271447e-01, 6.79041761e-01, 4.27600656e-01, 6.51810053e-01,\n",
       "       7.63549264e-01, 9.36040778e-02, 2.51402144e-01, 4.94688173e-01,\n",
       "       3.94609296e-02, 4.80587263e-01, 2.00903037e-01, 2.91056101e-01,\n",
       "       3.36858637e-01, 8.09451631e-01, 9.40515335e-01, 4.66030968e-01,\n",
       "       2.13500677e-01, 9.95981188e-01, 6.45184550e-01, 6.00090059e-01,\n",
       "       6.35021673e-01, 1.19874501e-01, 7.41995879e-03, 4.34095050e-01,\n",
       "       2.26074305e-01, 6.40101532e-01, 2.37061392e-01, 7.45294349e-01,\n",
       "       4.66447749e-01, 8.18335063e-01, 7.03404373e-02, 2.75087231e-01,\n",
       "       5.23186230e-01, 4.21538444e-01, 1.14648355e-01, 3.29122323e-02,\n",
       "       5.40652273e-01, 2.81109876e-01, 5.43650633e-01, 1.97367491e-01,\n",
       "       3.33937238e-01, 6.33897540e-02, 3.28367576e-01, 7.32924451e-01,\n",
       "       2.74098692e-01, 8.98438926e-01, 3.39284342e-01, 1.76207612e-01,\n",
       "       1.28090387e-01, 2.84006765e-01, 5.18589821e-02, 3.37829745e-01,\n",
       "       8.89105132e-01, 5.73683120e-01, 9.75697304e-02, 9.16892564e-01,\n",
       "       5.88005902e-01, 9.65820094e-01, 6.84797510e-01, 4.53579151e-01,\n",
       "       3.55062193e-01, 1.93018927e-01, 4.38148384e-02, 6.38126776e-01,\n",
       "       1.42473863e-02, 5.56452276e-02, 4.32033050e-01, 3.55820168e-01,\n",
       "       8.53863157e-01, 3.05175182e-01, 7.83622879e-01, 4.92475350e-04,\n",
       "       8.05685696e-01, 3.99275405e-01, 6.12322153e-01, 8.08741172e-01,\n",
       "       7.35234995e-02, 1.36580080e-01, 6.17570485e-02, 5.24535327e-02,\n",
       "       8.97937111e-01, 4.52939550e-01, 5.14573664e-01, 6.21168954e-01,\n",
       "       5.91846567e-01, 4.51065480e-01, 5.31192673e-01, 2.25088609e-02,\n",
       "       6.22727611e-01, 1.21382732e-01, 6.48160110e-01, 6.19275902e-01,\n",
       "       5.40062489e-01, 1.86713067e-01, 1.91794485e-01, 9.01466102e-01,\n",
       "       4.50602057e-01, 1.98170662e-01, 4.69135036e-01, 5.02668620e-01,\n",
       "       4.39356332e-01, 5.62482423e-01, 5.24160353e-01, 8.65314198e-01,\n",
       "       6.44236109e-01, 9.39310365e-01, 5.92187918e-03, 2.36538812e-01,\n",
       "       3.14540308e-01, 4.64259289e-01, 5.58831241e-01, 9.60497661e-01,\n",
       "       6.11968874e-01, 6.45968637e-02, 2.03211477e-01, 1.14683549e-01,\n",
       "       4.82141585e-02, 4.27319480e-01, 4.51370867e-01, 1.65443786e-01,\n",
       "       9.14140259e-01, 3.09700572e-01, 5.11315983e-01, 6.04465366e-01,\n",
       "       5.23130552e-01, 5.72497908e-01, 3.51767708e-01, 4.56566492e-02,\n",
       "       9.96990813e-02, 7.77189867e-01, 6.47830321e-03, 9.26333473e-02,\n",
       "       1.80920013e-01, 8.70737655e-01, 8.40816310e-01, 5.10902137e-01,\n",
       "       6.84549122e-01, 1.41970533e-02, 4.74286375e-01, 5.10011218e-01,\n",
       "       1.03934786e-01, 5.60041947e-01, 3.88189017e-01, 1.72919066e-01,\n",
       "       9.68779010e-01, 7.58278516e-01, 2.07113500e-02, 2.70083317e-01,\n",
       "       3.22005402e-01, 3.04202831e-01, 5.19025766e-01, 5.42738325e-01,\n",
       "       5.17260922e-01, 7.99421602e-01, 2.74359097e-01, 8.36009837e-01,\n",
       "       2.90112878e-01, 4.51410613e-01, 1.10298865e-01, 7.37947520e-01,\n",
       "       5.41038716e-01, 7.55865290e-01, 7.42382160e-01, 1.68964349e-02,\n",
       "       2.07192799e-01, 4.10977283e-01, 7.38291507e-01, 2.36205665e-01,\n",
       "       9.34878537e-01, 4.29549617e-02, 1.78353966e-01, 7.58645813e-01,\n",
       "       1.89032177e-01, 4.00206310e-01, 2.02116938e-01, 7.26224488e-02,\n",
       "       6.49239408e-01, 4.25919217e-01, 8.83443109e-01, 8.03135380e-01,\n",
       "       9.22044487e-01, 4.63149871e-02, 9.81397914e-01, 2.75229971e-01,\n",
       "       2.43011794e-01, 4.15709732e-01, 6.45736061e-01, 7.57385314e-01,\n",
       "       5.25334768e-01, 4.56014773e-01, 3.00268237e-01, 7.98872438e-01,\n",
       "       7.40242567e-01, 8.82396188e-01, 9.38144857e-01, 5.46451585e-01,\n",
       "       7.17075426e-01, 5.27018898e-01, 7.78520262e-01, 7.69012754e-01,\n",
       "       5.05507711e-01, 1.21735642e-01, 3.55765242e-01, 5.53640414e-01,\n",
       "       2.63312428e-01, 8.18222331e-01, 1.60888737e-01, 8.31962158e-02,\n",
       "       3.61577880e-01, 6.80455895e-01, 1.16831486e-01, 1.57445254e-01,\n",
       "       4.01134094e-02, 4.22687013e-03, 9.40037343e-01, 6.08824832e-01,\n",
       "       1.96218436e-03, 1.64234322e-01, 1.95776756e-01, 4.93051285e-01,\n",
       "       2.17819455e-01, 9.70458242e-01, 2.00462063e-01, 1.01804995e-02,\n",
       "       8.88339778e-01, 4.85931802e-01, 8.70005654e-01, 3.03613711e-01,\n",
       "       7.02298430e-01, 9.99591551e-01, 8.10823502e-01, 6.18945562e-01,\n",
       "       5.08237571e-02, 3.05576984e-01, 8.78809571e-01, 1.95327334e-01,\n",
       "       5.52718060e-01, 5.59552129e-01, 1.43720567e-01, 5.84771431e-01,\n",
       "       5.58571039e-01, 1.19359742e-02, 5.29847974e-01, 5.72161042e-01,\n",
       "       1.82970480e-01, 9.64697788e-01, 7.85093705e-01, 5.83271853e-01,\n",
       "       4.76236279e-01, 6.10263112e-01, 8.60749420e-02, 1.47362108e-01,\n",
       "       1.78709571e-01, 2.16765115e-01, 1.73837094e-01, 6.70297633e-01,\n",
       "       5.51877262e-01, 6.79304745e-01, 8.48928829e-01, 2.24966674e-01,\n",
       "       2.70591202e-01, 1.51625709e-01, 9.76056202e-01, 5.68226412e-01,\n",
       "       3.04707947e-01, 9.14486223e-02, 9.15963748e-01, 5.59686368e-01,\n",
       "       8.19236648e-01, 1.07292036e-01, 6.00610824e-01, 4.39831743e-01,\n",
       "       1.75775429e-01, 1.44279588e-01, 1.72789877e-01, 2.04257780e-01,\n",
       "       7.08793336e-01, 4.03566818e-01, 6.45670496e-01, 5.43794403e-01,\n",
       "       3.70493565e-01, 1.25152679e-01, 4.98414807e-01, 5.35032529e-01,\n",
       "       5.24293540e-01, 1.25121854e-01, 3.41565219e-01, 1.96982275e-01,\n",
       "       5.86127516e-01, 7.96467495e-01, 1.39571928e-01, 4.17584181e-01,\n",
       "       3.53346573e-02, 9.92240852e-01, 9.06973136e-01, 9.48477269e-01,\n",
       "       2.36347337e-01, 3.66554476e-01, 7.86646644e-01, 6.46620798e-01,\n",
       "       4.71207716e-01, 8.81930379e-02, 3.36880863e-01, 2.04547447e-01,\n",
       "       9.00570131e-02, 2.11759399e-01, 8.78566240e-02, 5.75331990e-01,\n",
       "       2.55587406e-01, 2.36836135e-01, 9.48809037e-02, 3.63946475e-02,\n",
       "       2.44438986e-01, 3.87475075e-01, 1.46106995e-01, 2.41352113e-01,\n",
       "       7.11954462e-01, 3.08372621e-01, 6.67183865e-01, 6.66215025e-01,\n",
       "       2.75009263e-01, 2.49399184e-01, 9.29750055e-01, 3.71677682e-01,\n",
       "       1.59045722e-01, 8.12568485e-01, 7.43259189e-01, 1.00379131e-01,\n",
       "       8.82037805e-01, 1.83269226e-01, 3.96777697e-01, 9.87628325e-01,\n",
       "       5.92996644e-01, 6.38422202e-01, 5.69250303e-01, 1.68436854e-01,\n",
       "       5.56751191e-01, 2.26347162e-01, 7.10069822e-01, 7.02318218e-01,\n",
       "       4.09413144e-01, 9.74850370e-01, 2.50149541e-01, 2.53967734e-01,\n",
       "       3.65420406e-01, 3.84700650e-01, 7.20862489e-01, 4.52904007e-01,\n",
       "       9.06105750e-01, 4.91141892e-01, 7.40355377e-01, 9.43750040e-01,\n",
       "       7.64246726e-01, 9.71180620e-01, 7.18705830e-01, 2.68480589e-01,\n",
       "       4.96244446e-01, 1.60173355e-01, 2.45609522e-01, 5.55425084e-01,\n",
       "       2.67979336e-01, 5.83715656e-01, 1.96699563e-01, 9.25684840e-01,\n",
       "       7.27250962e-01, 6.99644949e-01, 9.67006631e-01, 7.12903359e-01,\n",
       "       2.52498895e-02, 8.77373749e-01, 6.40981162e-01, 4.02583806e-01,\n",
       "       5.60645460e-01, 4.71006785e-01, 4.58450612e-01, 9.46808251e-01,\n",
       "       5.33038068e-01, 3.09137640e-01, 6.53192441e-01, 2.48310599e-01,\n",
       "       4.56995738e-01, 1.50668721e-01, 2.32295686e-01, 5.10388025e-01,\n",
       "       2.59418438e-01, 6.92111028e-01, 6.81718619e-02, 3.35568454e-01,\n",
       "       3.82524571e-01, 9.09560189e-01, 3.96473433e-01, 1.51133713e-01,\n",
       "       5.19244647e-01, 1.16656130e-01, 4.79151474e-01, 7.05335504e-02,\n",
       "       7.71675099e-02, 7.95656216e-01, 4.82688448e-02, 2.13780844e-01,\n",
       "       6.80365189e-01, 1.06627894e-01, 2.60243869e-01, 6.03967715e-01,\n",
       "       4.08426452e-01, 1.15067004e-02, 4.60486942e-01, 6.39275693e-01,\n",
       "       9.42824154e-02, 2.20076351e-01, 6.30860329e-01, 7.70716904e-01,\n",
       "       4.97175197e-01, 4.99806294e-01, 1.19121673e-01, 7.17951747e-02,\n",
       "       4.31523865e-01, 3.64955671e-01, 9.46647403e-01, 6.45985539e-02,\n",
       "       7.30597147e-01, 9.04191935e-01, 2.02666411e-01, 8.61250711e-01,\n",
       "       9.17772825e-02, 8.26453349e-01, 2.09550868e-01, 7.68703112e-01,\n",
       "       2.66082136e-01, 5.93250860e-02, 9.14160450e-01, 3.85301473e-01,\n",
       "       7.91211155e-01, 1.15710157e-01, 6.71068643e-01, 2.31185397e-01,\n",
       "       7.85698316e-01, 6.10146775e-01, 1.34896491e-01, 5.35762036e-01,\n",
       "       1.02488386e-01, 7.57352584e-01, 2.95555037e-01, 4.91975041e-01,\n",
       "       5.24574438e-01, 7.55037055e-01, 5.57353083e-01, 7.05566522e-01,\n",
       "       5.84041826e-02, 9.43312156e-01, 1.35235618e-01, 1.57899736e-01,\n",
       "       9.21651085e-01, 3.53510426e-01, 5.86018488e-01, 9.00375648e-01,\n",
       "       7.13884921e-01, 9.37617994e-01, 7.43620739e-01, 3.16266007e-01,\n",
       "       1.67205240e-01, 6.61850080e-02, 7.41814696e-01, 6.99981880e-01,\n",
       "       1.86719112e-02, 3.33815820e-01, 3.23735746e-01, 2.62773775e-01,\n",
       "       6.08714793e-01, 8.01305640e-01, 3.39081449e-01, 2.78086063e-01,\n",
       "       4.81408337e-01, 2.35466979e-01, 8.83111820e-01, 4.76809214e-01,\n",
       "       8.93449881e-01, 9.27984016e-01, 4.47950965e-01, 7.12621754e-01,\n",
       "       3.16732058e-01, 2.68660919e-01, 1.21699071e-01, 3.22116433e-01,\n",
       "       5.26726625e-01, 2.13062388e-01, 7.21220623e-01, 4.96316466e-01,\n",
       "       9.13546631e-01, 8.42936193e-01, 3.16625249e-02, 4.34902325e-01,\n",
       "       6.04031530e-01, 5.05046493e-01, 3.55495206e-01, 9.19535255e-02,\n",
       "       2.04319866e-02, 2.06068670e-01, 7.02688917e-01, 3.08037923e-01,\n",
       "       3.09597555e-01, 6.83319017e-01, 6.74901790e-01, 3.01969934e-01,\n",
       "       7.98192193e-01, 7.30681346e-02, 4.82813276e-01, 7.24845557e-01,\n",
       "       9.61850388e-01, 6.84063261e-01, 6.34314450e-02, 2.57688495e-01,\n",
       "       4.76194660e-01, 5.28093858e-01, 3.60096009e-01, 1.86872265e-01,\n",
       "       8.76303613e-02, 3.98001888e-01, 6.52186195e-01, 2.31135109e-01,\n",
       "       7.73619474e-01, 8.13199416e-01, 6.81112815e-02, 5.21652484e-01,\n",
       "       6.13124210e-01, 1.17630328e-01, 7.26583297e-01, 3.92189355e-01,\n",
       "       2.72072381e-02, 3.76891652e-02, 6.25376147e-01, 3.52897342e-01,\n",
       "       5.23180124e-01, 1.17031093e-01, 7.05005307e-02, 4.28544586e-01,\n",
       "       7.00081431e-01, 3.30614326e-01, 4.54745598e-01, 5.27572767e-02,\n",
       "       4.35389360e-01, 4.60360220e-01, 5.04482204e-01, 6.22808219e-01,\n",
       "       9.41923775e-01, 9.15107747e-01, 9.78032495e-01, 5.70725471e-01,\n",
       "       3.66702875e-01, 8.66201353e-01, 6.92304458e-01, 3.48799708e-01,\n",
       "       2.65933837e-01, 1.87660254e-01, 9.67511150e-01, 8.22057343e-01,\n",
       "       6.49489114e-02, 4.36092343e-01, 3.65891811e-01, 6.08347473e-01,\n",
       "       5.42242971e-01, 6.36734046e-02, 5.43342785e-01, 6.95464509e-01,\n",
       "       4.28514690e-01, 2.69760196e-01, 1.88975054e-01, 2.74616557e-02,\n",
       "       6.62738157e-01, 7.08874197e-01, 2.17985110e-01, 4.11173814e-01,\n",
       "       6.57066322e-01, 9.41991464e-01, 5.24338264e-01, 4.48727828e-01,\n",
       "       1.16946896e-01, 5.93229540e-01, 3.00295140e-01, 3.41193960e-01,\n",
       "       3.13431787e-01, 6.38589423e-01, 5.30510909e-01, 1.71922916e-01,\n",
       "       8.92254799e-03, 1.90904779e-01, 6.17179990e-01, 5.24385160e-01,\n",
       "       5.85057892e-02, 4.89096335e-01, 3.10030762e-01, 7.26150489e-01,\n",
       "       7.13887795e-01, 4.87248635e-01, 9.50057527e-01, 2.46984850e-01,\n",
       "       1.88525232e-01, 6.02017591e-01, 9.43229929e-01, 7.92028717e-01,\n",
       "       2.04385815e-01, 2.04409709e-01, 5.42777453e-01, 2.29487848e-01,\n",
       "       3.37340575e-01, 3.70541828e-01, 4.57607012e-01, 9.24675386e-01,\n",
       "       1.28018810e-01, 8.86065428e-01, 9.98412072e-02, 5.79201974e-01,\n",
       "       6.62766188e-01, 3.93928600e-01, 5.22117568e-02, 1.65086320e-01,\n",
       "       5.36868172e-01, 3.13344617e-01, 4.88947199e-01, 1.76267009e-01,\n",
       "       1.98340705e-01, 4.97855429e-01, 4.89287375e-01, 1.57655233e-02,\n",
       "       1.20291954e-01, 7.33119030e-01, 6.55902174e-01, 1.22783351e-01,\n",
       "       3.91494003e-01, 2.01659767e-01, 3.63901989e-01, 8.22998493e-01,\n",
       "       2.66612853e-01, 1.20719430e-01, 6.72637866e-01, 4.22878077e-01,\n",
       "       6.15055487e-01, 5.24725354e-01, 7.58621832e-01, 3.64997726e-01,\n",
       "       9.30835871e-01, 7.70340396e-01, 7.66153540e-01, 8.30929539e-01,\n",
       "       7.94601980e-01, 1.67627178e-01, 5.14935234e-01, 3.04386334e-02,\n",
       "       4.35906370e-01, 5.19333599e-01, 9.75323036e-01, 5.50606076e-01,\n",
       "       4.24988301e-01, 3.53469869e-01, 3.84773727e-01, 5.93833207e-01,\n",
       "       9.46039603e-01, 4.75130377e-01, 2.54958072e-01, 6.80223361e-01,\n",
       "       3.07457670e-01, 1.84577370e-01, 8.17973188e-01, 8.61495055e-01,\n",
       "       8.85930565e-01, 9.42426204e-01, 3.27662802e-01, 7.29287543e-01,\n",
       "       1.11929302e-01, 1.92221353e-01, 8.55599634e-01, 6.14779592e-01,\n",
       "       1.34320939e-01, 3.09694606e-01, 1.44228853e-01, 7.44844688e-01,\n",
       "       4.56804310e-01, 6.41558495e-01, 8.68526250e-01, 1.56633201e-01,\n",
       "       4.07395291e-01, 8.78837272e-01, 2.83130841e-01, 3.08320400e-03,\n",
       "       7.53379847e-01, 9.85616951e-02, 6.58988938e-01, 3.66633587e-02,\n",
       "       3.49783106e-01, 1.21929450e-01, 5.77053985e-01, 7.90774661e-01,\n",
       "       9.15198744e-01, 2.62416121e-01, 7.75982754e-01, 6.79867644e-02,\n",
       "       9.91689827e-01, 1.97265939e-01, 6.74394637e-01, 9.42042050e-01,\n",
       "       4.32937421e-01, 8.11062346e-01, 5.79657416e-01, 2.43142039e-01,\n",
       "       3.54664070e-01, 6.92593965e-01, 1.24972199e-01, 5.06221119e-01,\n",
       "       9.62238654e-01, 4.71796781e-01, 2.66551708e-01, 7.11257983e-01,\n",
       "       5.06074738e-01, 7.88357300e-01, 2.65100867e-01, 9.58096062e-01,\n",
       "       4.10886679e-01, 5.18026352e-01, 3.06272258e-01, 2.91908450e-01,\n",
       "       6.88323127e-01, 7.43126869e-01, 8.00767288e-01, 1.34490543e-01,\n",
       "       5.62693055e-01, 4.82229107e-01, 3.04493483e-01, 2.27858796e-01,\n",
       "       1.23321259e-01, 2.07816978e-01, 2.04142634e-03, 9.56153241e-01,\n",
       "       6.11252088e-01, 4.39560507e-01, 7.49903311e-01, 9.87510532e-01,\n",
       "       9.85710486e-01, 5.65109371e-01, 3.75346622e-01, 2.57092989e-01,\n",
       "       9.81880968e-01, 5.39907802e-01, 6.58241854e-01, 2.97957325e-01,\n",
       "       3.49427003e-01, 6.80286413e-01, 7.38435349e-01, 7.33869215e-01,\n",
       "       6.55876352e-01, 4.74959067e-01, 4.29602622e-01, 7.91421476e-01,\n",
       "       5.13214212e-01, 3.64422832e-01, 6.01432947e-01, 5.81750212e-01,\n",
       "       3.00350488e-01, 8.25677457e-01, 3.55443741e-02, 1.70428952e-02,\n",
       "       3.34105479e-01, 8.65273527e-01, 9.64594554e-01, 8.08693951e-01,\n",
       "       2.75431588e-02, 2.51433401e-01, 3.42511020e-01, 7.99490533e-01,\n",
       "       4.92290766e-01, 6.89035852e-01, 7.55436652e-01, 6.80134432e-01,\n",
       "       2.67167076e-02, 4.20762651e-02, 9.61309457e-01, 6.41533366e-01,\n",
       "       9.26661581e-01, 8.89554428e-01, 5.98722526e-01, 6.49764406e-01,\n",
       "       1.91294603e-01, 8.08504283e-01, 3.66579139e-01, 2.03350590e-01,\n",
       "       1.60636792e-02, 9.70200220e-01, 5.56090140e-01, 6.09508671e-01,\n",
       "       4.59938586e-01, 1.02215979e-01, 1.16331850e-01, 5.82883699e-01,\n",
       "       8.61654514e-01, 5.06186872e-01, 6.29104230e-01, 3.14049300e-01,\n",
       "       3.46412675e-02, 4.25402779e-01, 2.28152886e-02, 2.15720198e-01,\n",
       "       7.00054920e-01, 5.79934904e-02, 8.82717028e-01, 5.44514431e-01,\n",
       "       7.03102766e-02, 3.77090515e-01, 4.70267624e-01, 6.81036201e-01,\n",
       "       6.70741352e-01, 5.86864211e-01, 9.34734883e-01, 2.89339075e-02,\n",
       "       1.83969641e-01, 2.95729120e-01, 9.30669920e-01, 5.03245611e-01,\n",
       "       6.38179009e-01, 6.03261723e-01, 3.15339321e-01, 8.68382880e-01,\n",
       "       7.08566492e-01, 5.01819313e-01, 5.66574252e-01, 8.27242496e-01,\n",
       "       9.45062013e-01, 5.32276581e-01, 2.61843807e-02, 6.92346263e-01,\n",
       "       1.53217026e-01, 6.62699886e-01, 6.70732373e-01, 6.10565490e-01,\n",
       "       4.83562611e-02, 1.05313514e-01, 9.78180648e-01, 7.59799968e-01,\n",
       "       4.21448708e-02, 9.48884572e-01, 8.03171919e-01, 9.43248366e-01,\n",
       "       5.42311689e-01, 4.03219561e-01, 1.33310384e-01, 6.43362150e-01,\n",
       "       9.35945280e-01, 2.74696031e-02, 5.35957109e-01, 8.58985603e-02,\n",
       "       6.48332088e-02, 7.80180874e-01, 9.29176087e-01, 7.17429788e-01,\n",
       "       7.09986222e-01, 6.82562497e-01, 1.98926438e-02, 9.48061434e-01,\n",
       "       7.90074421e-01, 5.37894461e-01, 3.15121634e-01, 6.57058190e-01,\n",
       "       9.79628952e-01, 6.95252256e-01, 8.98178300e-02, 3.77621761e-01,\n",
       "       9.17521196e-01, 9.10831640e-01, 7.08183962e-01, 3.35296749e-02,\n",
       "       8.29239048e-01, 4.32394602e-01, 4.68059453e-01, 4.53235917e-01,\n",
       "       7.57132958e-01, 9.77613670e-02, 1.42909554e-01, 3.10777495e-02,\n",
       "       2.49012248e-01, 5.97472091e-01, 4.66305673e-01, 3.83730655e-01,\n",
       "       7.87125349e-01, 1.97718538e-02, 5.03012524e-01, 5.40786428e-01,\n",
       "       6.96036445e-01, 9.25006688e-01, 3.19677367e-01, 6.68261980e-01,\n",
       "       4.60742744e-01, 2.48076901e-01, 3.08599685e-01, 6.05812305e-01,\n",
       "       3.00540780e-01, 4.82190301e-01, 2.69302595e-01, 8.38873370e-01,\n",
       "       2.77977168e-01, 3.64213688e-01, 3.70102051e-01, 3.62935196e-01,\n",
       "       3.44122772e-01, 9.20149856e-01, 4.10858644e-01, 3.43881559e-01,\n",
       "       7.91961207e-01, 1.54781512e-01, 6.03967031e-01, 8.05059434e-02,\n",
       "       2.36796418e-01, 7.04223867e-01, 9.49697752e-01, 4.97073069e-01,\n",
       "       4.21281107e-01, 4.20901364e-01, 6.84331535e-01, 2.02993062e-02,\n",
       "       2.97115411e-01, 1.56996533e-01, 1.53089058e-01, 7.50548178e-01])"
      ]
     },
     "execution_count": 35,
     "metadata": {},
     "output_type": "execute_result"
    }
   ],
   "source": [
    "(np.random.random(1000))\n"
   ]
  },
  {
   "cell_type": "code",
   "execution_count": null,
   "metadata": {
    "collapsed": true
   },
   "outputs": [],
   "source": []
  }
 ],
 "metadata": {
  "anaconda-cloud": {},
  "kernelspec": {
   "display_name": "Python [default]",
   "language": "python",
   "name": "python3"
  }
 },
 "nbformat": 4,
 "nbformat_minor": 2
}
